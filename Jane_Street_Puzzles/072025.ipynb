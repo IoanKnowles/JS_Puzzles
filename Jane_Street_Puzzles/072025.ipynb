{
 "cells": [
  {
   "cell_type": "markdown",
   "id": "cccc4c8b",
   "metadata": {},
   "source": [
    "Speed Distribution: Each car's constant speed is modelled as a uniform distribution S ~ Uniform[1, 2]\n",
    "\n",
    "Cars go in an assigned lane based on their speed:\n",
    "<br>-Slow Lane: S &le; a\n",
    "<br>-Fast Lane: S &ge; a\n",
    "\n",
    "Assumptions:\n",
    "We assume each car overtakes at most one other car"
   ]
  },
  {
   "cell_type": "code",
   "execution_count": null,
   "id": "68428f55",
   "metadata": {},
   "outputs": [],
   "source": [
    "# PDF of S\n",
    "import sympy as sp\n",
    "s = sp.symbols('s')\n",
    "f = sp.Piecewise((1, (s >= 1) & (s <= 2)), (0, True))\n",
    "\n",
    "#print(sp.integrate(f, (s, 1, 2)) == 1)"
   ]
  },
  {
   "cell_type": "markdown",
   "id": "774c7782",
   "metadata": {},
   "source": [
    "Distance Loss Per Overtake:\n",
    "\n",
    "Slow Lane (S &le; a):\n",
    "-Slower car decelerates to 0 then re-accelerates to <em>y</em> at unit rate:<code>L<sub>slow</sub>(y) = y<sup>2</sup></code><br>\n",
    "Fast Lane (S &ge; a):\n",
    "-Slower car decelerates to 0 then re-accelerates to <em>y</em> at unit rate:<code>L<sub>fast</sub>(y) = (y-a)<sup>2</sup></code><br>\n",
    "Weight each overtake by relative speed (x - y) and integrate over 1 &le; y &lt; x &le; 2:\n",
    "<br>\n",
    "<code>\n",
    "I<sub>slow</sub>(a) = &int;<sub>x=1</sub><sup>a</sup> &int;<sub>y=1</sub><sup>x</sup> (x &minus; y) y<sup>2</sup> dy dx,<br>\n",
    "I<sub>fast</sub>(a) = &int;<sub>x=a</sub><sup>2</sup> &int;<sub>y=a</sub><sup>x</sup> (x &minus; y)(y &minus; a)<sup>2</sup> dy dx,<br>\n",
    "g(a) = I<sub>slow</sub>(a) + I<sub>fast</sub>(a).\n",
    "</code>\n"
   ]
  },
  {
   "cell_type": "code",
   "execution_count": 4,
   "id": "b8a5eccc",
   "metadata": {},
   "outputs": [
    {
     "name": "stdout",
     "output_type": "stream",
     "text": [
      "g(a) = a**4/6 - 2*a**3/3 + 7*a**2/6 - 13*a/12 + 13/30\n"
     ]
    }
   ],
   "source": [
    "# Symbolic integration to derive g(a)\n",
    "a, x, y = sp.symbols('a x y')\n",
    "I_slow = sp.integrate(sp.integrate((x-y)*y**2, (y, 1, x)), (x, 1, a))\n",
    "I_fast = sp.integrate(sp.integrate((x-y)*(y-a)**2, (y, a, x)), (x, a, 2))\n",
    "g = sp.simplify(I_slow + I_fast)\n",
    "print('g(a) =', g)"
   ]
  },
  {
   "cell_type": "markdown",
   "id": "bfceb46e",
   "metadata": {},
   "source": [
    "Finding the value of a that minimises the expected loss function\n",
    "\n",
    "Compute the derivative g'(a) and find roots in [1, 2]\n",
    "Confirm that the second derivative is positive at optimum"
   ]
  },
  {
   "cell_type": "code",
   "execution_count": 9,
   "id": "1b74dba4",
   "metadata": {},
   "outputs": [
    {
     "name": "stdout",
     "output_type": "stream",
     "text": [
      "Critical a= 1.2266988257582019\n",
      "Minimum Value? True\n"
     ]
    }
   ],
   "source": [
    "dg = sp.diff(g, a)\n",
    "crit = sp.nroots(dg)\n",
    "real_crit = [r for r in crit if abs(sp.im(r)) < 1e-8]\n",
    "float_roots = [float(sp.re(r)) for r in real_crit]\n",
    "opt = [r for r in float_roots if 1 < r < 2][0]\n",
    "print('Critical a=', opt)\n",
    "# second derivative\n",
    "d2g = sp.diff(dg, a)\n",
    "print('Minimum Value?', d2g.subs(a, opt).evalf() > 0)"
   ]
  },
  {
   "cell_type": "markdown",
   "id": "e6e3cd20",
   "metadata": {},
   "source": [
    "Numeric Check\n",
    "\n",
    "valuate g(a) near the candidates optimum to verify it is minimal"
   ]
  },
  {
   "cell_type": "code",
   "execution_count": null,
   "id": "44c47295",
   "metadata": {},
   "outputs": [
    {
     "name": "stdout",
     "output_type": "stream",
     "text": [
      "a = 1.2, g(a) = 0.006933333333333236\n",
      "a = 1.2266988257582019, g(a) = 0.0067806865234583125\n",
      "a = 1.25, g(a) = 0.0069010416666668295\n"
     ]
    }
   ],
   "source": [
    "import numpy as np\n",
    "values = [1.2, 1.2266988257582019, 1.25]\n",
    "for a in values:\n",
    "    print(f\"a = {a}, g(a) = {a**4/6 - 2*a**3/3 + 7*a**2/6 - 13*a/12 + 13/30}\")"
   ]
  },
  {
   "cell_type": "markdown",
   "id": "d9cf0d9f",
   "metadata": {},
   "source": [
    "Final Answer: \n",
    "\n",
    "a = 1.2266988258"
   ]
  }
 ],
 "metadata": {
  "kernelspec": {
   "display_name": "base",
   "language": "python",
   "name": "python3"
  },
  "language_info": {
   "codemirror_mode": {
    "name": "ipython",
    "version": 3
   },
   "file_extension": ".py",
   "mimetype": "text/x-python",
   "name": "python",
   "nbconvert_exporter": "python",
   "pygments_lexer": "ipython3",
   "version": "3.13.5"
  }
 },
 "nbformat": 4,
 "nbformat_minor": 5
}
