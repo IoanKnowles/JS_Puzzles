{
 "cells": [
  {
   "cell_type": "code",
   "execution_count": 1,
   "id": "a9a1f9b9",
   "metadata": {},
   "outputs": [
    {
     "data": {
      "text/markdown": [
       "## Robot Road Trip - July 2025\n",
       "\n",
       "Robot cars have a top speed (which they prefer to maintain at all times while driving)\n",
       "that’s a real number randomly drawn uniformly between 1 and 2 miles per minute. A two-lane\n",
       "highway for robot cars has a fast lane (with minimum speed a ) and a slow lane (with\n",
       "maximum speed a ). When a faster car overtakes a slower car in the same lane, the slower\n",
       "car is required to decelerate to either change lanes (if both cars start in the fast lane)\n",
       "or stop on the shoulder (if both cars start in the slow lane). Robot cars decelerate and\n",
       "accelerate at a constant rate of 1 mile per minute per minute, timed so the faster,\n",
       "overtaking car doesn’t have to change speed at all, and passing happens\n",
       "instantaneously. If cars rarely meet (so you never have to consider a car meeting more\n",
       "than one other car on its trip, see Mathematical clarification below), and you want to\n",
       "minimize the miles not driven due to passing, what should a be set to, in miles per\n",
       "minute? Give your answer to 10 decimal places . Example car interactions: suppose a is set to 1.2 miles per minute. If a car with top\n",
       "speed 1.8 overtakes a car with top speed 1.1, neither has to slow down because they are in\n",
       "different lanes. If instead the car with top speed 1.8 overtakes one with top speed 1.7,\n",
       "the slower car computes the optimal time to start decelerating for 30 seconds (to reach\n",
       "1.2 miles per minute to switch to the other lane) so the faster car instantly passes and\n",
       "the slower car can immediately start accelerating for another 30 seconds to return to 1.7\n",
       "miles per minute. This pass cost 0.25 miles (how far behind where the slower car would be\n",
       "if it continued at 1.7 miles per minute). If a car with top speed 1.1 overtakes one with top speed 1.0 in the slow lane, the slower\n",
       "(slowest!) car must decelerate for a full minute all the way to 0 to allow the pass, and\n",
       "then accelerate for a full minute to reestablish its speed, losing exactly 1 mile of\n",
       "distance. Assume all car trips are of constant length N , starting at arbitrary points and times\n",
       "along an infinitely long highway. This is made more mathematically precise below. Mathematical clarification : Say car trips arrive at a rate of z car trip beginnings\n",
       "per mile per minute, uniformly across the infinite highway (cars enter and exit their\n",
       "trips at their preferred speed due to on/off ramps), and car trips have a constant length\n",
       "of N miles. Define f ( z , N ) to be the value of a that minimizes the expected lost\n",
       "distance per car trip due to passing. Find: the limit of [the limit of f ( z , N ) as z -> 0+] as N -> infinity."
      ],
      "text/plain": [
       "<IPython.core.display.Markdown object>"
      ]
     },
     "execution_count": 1,
     "metadata": {},
     "output_type": "execute_result"
    }
   ],
   "source": [
    "import requests\n",
    "from bs4 import BeautifulSoup\n",
    "from IPython.display import Markdown\n",
    "url = \"https://www.janestreet.com/puzzles/current-puzzle/\"\n",
    "res = requests.get(url)\n",
    "soup = BeautifulSoup(res.content, 'html.parser')\n",
    "text_blocks = [text for text in soup.body.stripped_strings]\n",
    "puzzle_text = \" \".join(text_blocks[14:55])\n",
    "full_text = \"## Robot Road Trip - July 2025\\n\\n\" + puzzle_text\n",
    "Markdown(full_text)"
   ]
  },
  {
   "cell_type": "markdown",
   "id": "cccc4c8b",
   "metadata": {},
   "source": [
    "Speed Distribution: Each car's constant speed is modelled as a uniform distribution S ~ Uniform[1, 2]\n",
    "\n",
    "Cars go in an assigned lane based on their speed:\n",
    "<br>-Slow Lane: S &le; a\n",
    "<br>-Fast Lane: S &ge; a\n",
    "\n",
    "Assumptions:\n",
    "We assume each car overtakes at most one other car"
   ]
  },
  {
   "cell_type": "code",
   "execution_count": null,
   "id": "68428f55",
   "metadata": {},
   "outputs": [],
   "source": [
    "# PDF of S\n",
    "import sympy as sp\n",
    "s = sp.symbols('s')\n",
    "f = sp.Piecewise((1, (s >= 1) & (s <= 2)), (0, True))\n",
    "\n",
    "#print(sp.integrate(f, (s, 1, 2)) == 1)"
   ]
  },
  {
   "cell_type": "markdown",
   "id": "774c7782",
   "metadata": {},
   "source": [
    "Distance Loss Per Overtake:\n",
    "\n",
    "Slow Lane (S &le; a):\n",
    "-Slower car decelerates to 0 then re-accelerates to <em>y</em> at unit rate:<code>L<sub>slow</sub>(y) = y<sup>2</sup></code><br>\n",
    "Fast Lane (S &ge; a):\n",
    "-Slower car decelerates to 0 then re-accelerates to <em>y</em> at unit rate:<code>L<sub>fast</sub>(y) = (y-a)<sup>2</sup></code><br>\n",
    "Weight each overtake by relative speed (x - y) and integrate over 1 &le; y &lt; x &le; 2:\n",
    "<br>\n",
    "<code>\n",
    "I<sub>slow</sub>(a) = &int;<sub>x=1</sub><sup>a</sup> &int;<sub>y=1</sub><sup>x</sup> (x &minus; y) y<sup>2</sup> dy dx,<br>\n",
    "I<sub>fast</sub>(a) = &int;<sub>x=a</sub><sup>2</sup> &int;<sub>y=a</sub><sup>x</sup> (x &minus; y)(y &minus; a)<sup>2</sup> dy dx,<br>\n",
    "g(a) = I<sub>slow</sub>(a) + I<sub>fast</sub>(a).\n",
    "</code>\n"
   ]
  },
  {
   "cell_type": "code",
   "execution_count": null,
   "id": "b8a5eccc",
   "metadata": {},
   "outputs": [
    {
     "name": "stdout",
     "output_type": "stream",
     "text": [
      "g(a) = a**4/6 - 2*a**3/3 + 7*a**2/6 - 13*a/12 + 13/30\n"
     ]
    }
   ],
   "source": [
    "# Symbolic integration to derive g(a)\n",
    "a, x, y = sp.symbols('a x y')\n",
    "I_slow = sp.integrate(sp.integrate((x-y)*y**2, (y, 1, x)), (x, 1, a))\n",
    "I_fast = sp.integrate(sp.integrate((x-y)*(y-a)**2, (y, a, x)), (x, a, 2))\n",
    "g = sp.simplify(I_slow + I_fast)\n",
    "print('g(a) =', g)"
   ]
  },
  {
   "cell_type": "markdown",
   "id": "bfceb46e",
   "metadata": {},
   "source": [
    "Finding the value of a that minimises the expected loss function\n",
    "\n",
    "Compute the derivative g'(a) and find roots in [1, 2]\n",
    "Confirm that the second derivative is positive at optimum"
   ]
  },
  {
   "cell_type": "code",
   "execution_count": null,
   "id": "1b74dba4",
   "metadata": {},
   "outputs": [
    {
     "name": "stdout",
     "output_type": "stream",
     "text": [
      "Critical a= 1.2266988257582019\n",
      "Minimum Value? True\n"
     ]
    }
   ],
   "source": [
    "dg = sp.diff(g, a)\n",
    "crit = sp.nroots(dg)\n",
    "real_crit = [r for r in crit if abs(sp.im(r)) < 1e-8]\n",
    "float_roots = [float(sp.re(r)) for r in real_crit]\n",
    "opt = [r for r in float_roots if 1 < r < 2][0]\n",
    "print('Critical a=', opt)\n",
    "# second derivative\n",
    "d2g = sp.diff(dg, a)\n",
    "print('Minimum Value?', d2g.subs(a, opt).evalf() > 0)"
   ]
  },
  {
   "cell_type": "markdown",
   "id": "e6e3cd20",
   "metadata": {},
   "source": [
    "Numeric Check\n",
    "\n",
    "valuate g(a) near the candidates optimum to verify it is minimal"
   ]
  },
  {
   "cell_type": "code",
   "execution_count": null,
   "id": "44c47295",
   "metadata": {},
   "outputs": [
    {
     "name": "stdout",
     "output_type": "stream",
     "text": [
      "a = 1.2, g(a) = 0.006933333333333236\n",
      "a = 1.2266988257582019, g(a) = 0.0067806865234583125\n",
      "a = 1.25, g(a) = 0.0069010416666668295\n"
     ]
    }
   ],
   "source": [
    "import numpy as np\n",
    "values = [1.2, 1.2266988257582019, 1.25]\n",
    "for a in values:\n",
    "    print(f\"a = {a}, g(a) = {a**4/6 - 2*a**3/3 + 7*a**2/6 - 13*a/12 + 13/30}\")"
   ]
  },
  {
   "cell_type": "markdown",
   "id": "d9cf0d9f",
   "metadata": {},
   "source": [
    "Final Answer: \n",
    "\n",
    "a = 1.2266988258"
   ]
  }
 ],
 "metadata": {
  "kernelspec": {
   "display_name": "base",
   "language": "python",
   "name": "python3"
  },
  "language_info": {
   "codemirror_mode": {
    "name": "ipython",
    "version": 3
   },
   "file_extension": ".py",
   "mimetype": "text/x-python",
   "name": "python",
   "nbconvert_exporter": "python",
   "pygments_lexer": "ipython3",
   "version": "3.13.5"
  }
 },
 "nbformat": 4,
 "nbformat_minor": 5
}
